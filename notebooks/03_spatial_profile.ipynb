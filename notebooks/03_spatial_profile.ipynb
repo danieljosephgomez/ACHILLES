{
  "nbformat": 4,
  "nbformat_minor": 0,
  "metadata": {
    "colab": {
      "provenance": [],
      "toc_visible": true
    },
    "kernelspec": {
      "name": "python3",
      "display_name": "Python 3"
    },
    "language_info": {
      "name": "python"
    }
  },
  "cells": [
    {
      "cell_type": "markdown",
      "source": [
        "## Spatial Profile\n",
        "\n",
        "This notebook provides a comprehensive guide for annotating spatial transcriptomics data. It includes sections for visualizing UMAP embeddings colored by cell type, visualizing spatial data with cell types, visualizing gene expression on spatial coordinates, calculating and visualizing spatial density plots, and computing and mapping spatial eigengenes. The notebook will load processed data from \"processed_data.h5ad\""
      ],
      "metadata": {
        "id": "GVUSD1b0eDRm"
      }
    },
    {
      "cell_type": "code",
      "source": [
        "from google.colab import drive\n",
        "drive.mount('/content/drive')"
      ],
      "metadata": {
        "colab": {
          "base_uri": "https://localhost:8080/"
        },
        "id": "3KcSX-jv5q7A",
        "outputId": "c04b17c6-d690-4b1c-ccc3-f28a2e49e19f"
      },
      "execution_count": null,
      "outputs": [
        {
          "output_type": "stream",
          "name": "stdout",
          "text": [
            "Drive already mounted at /content/drive; to attempt to forcibly remount, call drive.mount(\"/content/drive\", force_remount=True).\n"
          ]
        }
      ]
    },
    {
      "cell_type": "code",
      "source": [
        "# The path to your university folder will now be inside your personal mounted drive\n",
        "# via the shortcut you created.\n",
        "univ_folder_path = '/content/drive/My Drive/Ovary'\n",
        "\n",
        "# You can now list the files inside it to verify\n",
        "import os\n",
        "print(os.listdir(univ_folder_path))"
      ],
      "metadata": {
        "colab": {
          "base_uri": "https://localhost:8080/"
        },
        "id": "ql3aihen50uF",
        "outputId": "2c56f03e-e58f-4740-d8b8-f30984bbf8bf"
      },
      "execution_count": null,
      "outputs": [
        {
          "output_type": "stream",
          "name": "stdout",
          "text": [
            "['HBM539.JDPH.785', 'HBM853.LCNF.879', 'processed_data']\n"
          ]
        }
      ]
    },
    {
      "cell_type": "code",
      "execution_count": null,
      "metadata": {
        "colab": {
          "base_uri": "https://localhost:8080/",
          "height": 332
        },
        "id": "ye7gkx6M-euu",
        "outputId": "3bac60fc-86d7-4051-e47e-b06c83c439fb"
      },
      "outputs": [
        {
          "output_type": "error",
          "ename": "KeyError",
          "evalue": "'X_umap'",
          "traceback": [
            "\u001b[0;31m---------------------------------------------------------------------------\u001b[0m",
            "\u001b[0;31mKeyError\u001b[0m                                  Traceback (most recent call last)",
            "\u001b[0;32m<ipython-input-7-c075fa492268>\u001b[0m in \u001b[0;36m<cell line: 0>\u001b[0;34m()\u001b[0m\n\u001b[1;32m     20\u001b[0m \u001b[0;31m# Now you can access the attributes\u001b[0m\u001b[0;34m\u001b[0m\u001b[0;34m\u001b[0m\u001b[0m\n\u001b[1;32m     21\u001b[0m \u001b[0;31m# UMAP embeddings\u001b[0m\u001b[0;34m\u001b[0m\u001b[0;34m\u001b[0m\u001b[0m\n\u001b[0;32m---> 22\u001b[0;31m \u001b[0mumap_embeddings\u001b[0m \u001b[0;34m=\u001b[0m \u001b[0madata\u001b[0m\u001b[0;34m.\u001b[0m\u001b[0mobsm\u001b[0m\u001b[0;34m[\u001b[0m\u001b[0;34m'X_umap'\u001b[0m\u001b[0;34m]\u001b[0m\u001b[0;34m\u001b[0m\u001b[0;34m\u001b[0m\u001b[0m\n\u001b[0m\u001b[1;32m     23\u001b[0m \u001b[0;34m\u001b[0m\u001b[0m\n\u001b[1;32m     24\u001b[0m \u001b[0;31m# Spatial coordinates\u001b[0m\u001b[0;34m\u001b[0m\u001b[0;34m\u001b[0m\u001b[0m\n",
            "\u001b[0;32m/usr/local/lib/python3.11/dist-packages/anndata/_core/aligned_mapping.py\u001b[0m in \u001b[0;36m__getitem__\u001b[0;34m(self, key)\u001b[0m\n\u001b[1;32m    209\u001b[0m \u001b[0;34m\u001b[0m\u001b[0m\n\u001b[1;32m    210\u001b[0m     \u001b[0;32mdef\u001b[0m \u001b[0m__getitem__\u001b[0m\u001b[0;34m(\u001b[0m\u001b[0mself\u001b[0m\u001b[0;34m,\u001b[0m \u001b[0mkey\u001b[0m\u001b[0;34m:\u001b[0m \u001b[0mstr\u001b[0m\u001b[0;34m)\u001b[0m \u001b[0;34m->\u001b[0m \u001b[0mValue\u001b[0m\u001b[0;34m:\u001b[0m\u001b[0;34m\u001b[0m\u001b[0;34m\u001b[0m\u001b[0m\n\u001b[0;32m--> 211\u001b[0;31m         \u001b[0;32mreturn\u001b[0m \u001b[0mself\u001b[0m\u001b[0;34m.\u001b[0m\u001b[0m_data\u001b[0m\u001b[0;34m[\u001b[0m\u001b[0mkey\u001b[0m\u001b[0;34m]\u001b[0m\u001b[0;34m\u001b[0m\u001b[0;34m\u001b[0m\u001b[0m\n\u001b[0m\u001b[1;32m    212\u001b[0m \u001b[0;34m\u001b[0m\u001b[0m\n\u001b[1;32m    213\u001b[0m     \u001b[0;32mdef\u001b[0m \u001b[0m__setitem__\u001b[0m\u001b[0;34m(\u001b[0m\u001b[0mself\u001b[0m\u001b[0;34m,\u001b[0m \u001b[0mkey\u001b[0m\u001b[0;34m:\u001b[0m \u001b[0mstr\u001b[0m\u001b[0;34m,\u001b[0m \u001b[0mvalue\u001b[0m\u001b[0;34m:\u001b[0m \u001b[0mValue\u001b[0m\u001b[0;34m)\u001b[0m\u001b[0;34m:\u001b[0m\u001b[0;34m\u001b[0m\u001b[0;34m\u001b[0m\u001b[0m\n",
            "\u001b[0;31mKeyError\u001b[0m: 'X_umap'"
          ]
        }
      ],
      "source": [
        "# prompt: load the processed data # with the following attributes:\n",
        "# # adata.obsm['X_umap']: UMAP embeddings\n",
        "# # adata.obsm['spatial']: Spatial coordinates\n",
        "# # adata.obs['cell_type']: Cell type annotations\n",
        "# I have the data ontology mined and processed in 02_process_tissue.ipynb notebook. How can I bring it over to 03_annotation.ipynb ?\n",
        "\n",
        "# The standard way to pass data between notebooks in Colab is to save the data\n",
        "# in one notebook and load it in the other.\n",
        "# Assuming you saved the processed data in the previous notebook, you can load it here.\n",
        "# If you saved it as an AnnData object (using scanpy), you can load it directly.\n",
        "import scanpy as sc\n",
        "\n",
        "# Specify the path where you saved the AnnData object in the previous notebook\n",
        "# Make sure this path is accessible from your current notebook (e.g., in Google Drive)\n",
        "adata_path = '/content/drive/MyDrive/Ovary/HBM539.JDPH.785/processed_data/processed_expr.h5ad' # Replace with your actual path\n",
        "\n",
        "# Load the AnnData object\n",
        "adata = sc.read_h5ad(adata_path)\n",
        "\n",
        "# Now you can access the attributes\n",
        "# UMAP embeddings\n",
        "umap_embeddings = adata.obsm['X_umap']\n",
        "\n",
        "# Spatial coordinates\n",
        "spatial_coordinates = adata.obsm['spatial']\n",
        "\n",
        "# Cell type annotations\n",
        "cell_types = adata.obs['cell_type']\n",
        "\n",
        "print(\"Data loaded successfully.\")\n",
        "print(\"UMAP embeddings shape:\", umap_embeddings.shape)\n",
        "print(\"Spatial coordinates shape:\", spatial_coordinates.shape)\n",
        "print(\"Cell types head:\", cell_types.head())\n"
      ]
    },
    {
      "cell_type": "code",
      "source": [],
      "metadata": {
        "id": "X5dJuf39wzEo"
      },
      "execution_count": null,
      "outputs": []
    },
    {
      "cell_type": "markdown",
      "source": [
        "# Load processed data\n",
        "\n",
        "Load the processed AnnData object containin UMAP embeddings, spatial coordinates, and cell type annotations from the previous notebook."
      ],
      "metadata": {
        "id": "aE4pPKh17QNn"
      }
    },
    {
      "cell_type": "code",
      "source": [],
      "metadata": {
        "id": "ZfPZPtEh7bH9"
      },
      "execution_count": null,
      "outputs": []
    },
    {
      "cell_type": "markdown",
      "source": [
        "# Visualize UMAP embeddings\n",
        "\n",
        "Generate a UMAP plot colored by cell type to visualize the clustering of cells in the reduced dimension space."
      ],
      "metadata": {
        "id": "Zxp9UOsj7bjb"
      }
    },
    {
      "cell_type": "code",
      "source": [],
      "metadata": {
        "id": "YkzmYryj7j7V"
      },
      "execution_count": null,
      "outputs": []
    },
    {
      "cell_type": "markdown",
      "source": [
        "# Visualize spatial data with cell types\n",
        "\n",
        "Create a spatial data where cells are colored by their assigned cell types to visualize their distribution within the tissue."
      ],
      "metadata": {
        "id": "FSxel7I97lJG"
      }
    },
    {
      "cell_type": "code",
      "source": [],
      "metadata": {
        "id": "3miSN9mO7u1u"
      },
      "execution_count": null,
      "outputs": []
    },
    {
      "cell_type": "markdown",
      "source": [
        "# Visualize gene expression on spatial coordinates\n",
        "\n",
        "Generate spatial plots showing the expression levels of specific gene markers on the tissue."
      ],
      "metadata": {
        "id": "MtuQRyDB7v-9"
      }
    },
    {
      "cell_type": "code",
      "source": [],
      "metadata": {
        "id": "Z7Q5AY2X73F6"
      },
      "execution_count": null,
      "outputs": []
    },
    {
      "cell_type": "markdown",
      "source": [
        "# Calculate and visualize spatial density\n",
        "\n",
        "Compute and visualize spatial density splots to understand the distribution of cells or specific cell types across the tissue."
      ],
      "metadata": {
        "id": "ZysmzGp473m9"
      }
    },
    {
      "cell_type": "code",
      "source": [],
      "metadata": {
        "id": "QVhuEKXp8BCi"
      },
      "execution_count": null,
      "outputs": []
    },
    {
      "cell_type": "markdown",
      "source": [
        "# Compute the map spatial eigengenes\n",
        "\n",
        "Calculate spatial eigengenes and map them to spatial coordinates."
      ],
      "metadata": {
        "id": "97yRQxBj8BqX"
      }
    },
    {
      "cell_type": "code",
      "source": [],
      "metadata": {
        "id": "vUmrPUWu8JhO"
      },
      "execution_count": null,
      "outputs": []
    },
    {
      "cell_type": "markdown",
      "source": [
        "# Integrate spatial and expression data for annotation.\n",
        "\n",
        "Combine spatial and gene expression information to refine cell type annotation or identify spatially-defined cell subtypes."
      ],
      "metadata": {
        "id": "M2Rssc0x8J72"
      }
    },
    {
      "cell_type": "code",
      "source": [],
      "metadata": {
        "id": "0_kzTksG8SWQ"
      },
      "execution_count": null,
      "outputs": []
    },
    {
      "cell_type": "markdown",
      "source": [
        "# Generate summary statistics and reports\n",
        "\n",
        "Create summary tables or reports of cell type proportions, spatially variable genes, or other relevant findings."
      ],
      "metadata": {
        "id": "tEpK-uqO8S6h"
      }
    },
    {
      "cell_type": "code",
      "source": [],
      "metadata": {
        "id": "Utgd2S_K8beY"
      },
      "execution_count": null,
      "outputs": []
    },
    {
      "cell_type": "markdown",
      "source": [
        "# Finish Task\n",
        "\n",
        "Summarize the findings and next steps based on the analysis performed in the notebook."
      ],
      "metadata": {
        "id": "70p7P4nE8cF5"
      }
    },
    {
      "cell_type": "code",
      "source": [],
      "metadata": {
        "id": "E5UPGqzT8iMA"
      },
      "execution_count": null,
      "outputs": []
    }
  ]
}